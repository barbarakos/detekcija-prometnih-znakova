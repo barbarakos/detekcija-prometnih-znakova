{
 "cells": [
  {
   "cell_type": "markdown",
   "id": "cc43ff11",
   "metadata": {},
   "source": [
    "# 1. Setup Paths"
   ]
  },
  {
   "cell_type": "code",
   "execution_count": null,
   "id": "32c065f9",
   "metadata": {},
   "outputs": [],
   "source": [
    "DATA_PATH = 'Tensorflow/data'\n",
    "SCRIPTS_PATH = 'Tensorflow/scripts'\n",
    "APIMODEL_PATH = 'Tensorflow/models'\n",
    "ANNOTATION_PATH = DATA_PATH + '/annotations'\n",
    "IMAGE_PATH = DATA_PATH + '/images'\n",
    "MODEL_PATH = DATA_PATH + '/models' # putanja vlastitog treniranog modela\n",
    "PRETRAINED_MODEL_PATH = DATA_PATH + '/pretrained-models' \n",
    "CHECKPOINT_PATH = MODEL_PATH + '/ssd_mobnet_znakovi'\n",
    "CUSTOM_MODEL_NAME = 'ssd_mobnet_znakovi'\n",
    "CONFIG_FILE = MODEL_PATH + '/ssd_mobnet_znakovi/pipeline.config'"
   ]
  },
  {
   "cell_type": "markdown",
   "id": "fe5a650e",
   "metadata": {},
   "source": [
    "# 2. Create Label Map"
   ]
  },
  {
   "cell_type": "code",
   "execution_count": null,
   "id": "97006fb1",
   "metadata": {},
   "outputs": [],
   "source": [
    "labels = [{'name':'Cesta s prednošću prolaska', 'id':1}, {'name':'Divljač na cesti', 'id':2}, \n",
    "          {'name':'Obavezno zaustavljanje', 'id':3}, {'name':'Ograničenje brzine 40', 'id':4}, \n",
    "          {'name':'Ograničenje brzine 50', 'id':5}, {'name':'Ograničenje brzine 60', 'id':6}, \n",
    "          {'name':'Ograničenje brzine 70', 'id':7}, {'name':'Pješački prijelaz', 'id':8}, \n",
    "          {'name':'Približavanje pješačkom prijelazu', 'id':9}, {'name':'Zabrana pretjecanja', 'id':10}]\n"
   ]
  },
  {
   "cell_type": "code",
   "execution_count": null,
   "id": "7b6f9005",
   "metadata": {},
   "outputs": [],
   "source": [
    "# output labels into a label map (.pbtxt format)\n",
    "with open(ANNOTATION_PATH + \"\\label_map.pbtxt\", 'w', encoding='utf-8') as file:\n",
    "    for label in labels:\n",
    "        file.write('item{\\n')\n",
    "        file.write('\\tname:\\'{}\\'\\n'.format(label['name']))\n",
    "        file.write('\\tid:{}\\n'.format(label['id']))\n",
    "        file.write('}\\n')"
   ]
  },
  {
   "cell_type": "markdown",
   "id": "43d0a179",
   "metadata": {},
   "source": [
    "# 3. Create TF record"
   ]
  },
  {
   "cell_type": "code",
   "execution_count": null,
   "id": "e62c77a1",
   "metadata": {},
   "outputs": [],
   "source": [
    "!pip install tensorflow==2.10.0"
   ]
  },
  {
   "cell_type": "code",
   "execution_count": null,
   "id": "8597cf7c",
   "metadata": {
    "scrolled": true
   },
   "outputs": [],
   "source": [
    "!pip install tensorflow-object-detection-api"
   ]
  },
  {
   "cell_type": "code",
   "execution_count": null,
   "id": "c0430370",
   "metadata": {},
   "outputs": [],
   "source": [
    "!python {SCRIPTS_PATH + '/generate_tfrecord.py'} -x {IMAGE_PATH + '/train'} -l {ANNOTATION_PATH + '/label_map.pbtxt'} -o {ANNOTATION_PATH + '/train.record'}\n",
    "!python {SCRIPTS_PATH + '/generate_tfrecord.py'} -x {IMAGE_PATH + '/test'} -l {ANNOTATION_PATH + '/label_map.pbtxt'} -o {ANNOTATION_PATH + '/test.record'}"
   ]
  },
  {
   "cell_type": "markdown",
   "id": "8be6d3a8",
   "metadata": {},
   "source": [
    "# 4. Download TF Pretrained Model from TF Model ZOO"
   ]
  },
  {
   "cell_type": "code",
   "execution_count": null,
   "id": "32460e15",
   "metadata": {},
   "outputs": [],
   "source": [
    "import wget\n",
    "\n",
    "wget.download('http://download.tensorflow.org/models/object_detection/tf2/20200711/ssd_mobilenet_v2_fpnlite_320x320_coco17_tpu-8.tar.gz')\n",
    "!move ssd_mobilenet_v2_fpnlite_320x320_coco17_tpu-8.tar.gz {PRETRAINED_MODEL_PATH}\n",
    "!cd {PRETRAINED_MODEL_PATH} && tar -zxvf ssd_mobilenet_v2_fpnlite_320x320_coco17_tpu-8.tar.gz"
   ]
  },
  {
   "cell_type": "code",
   "execution_count": null,
   "id": "52dc1607",
   "metadata": {},
   "outputs": [],
   "source": [
    "import shutil\n",
    "import os\n",
    "\n",
    "ORIGINAL_CONFIG_PATH = os.path.join(PRETRAINED_MODEL_PATH, 'ssd_mobilenet_v2_fpnlite_320x320_coco17_tpu-8', 'pipeline.config')\n",
    "shutil.copy(ORIGINAL_CONFIG_PATH, CHECKPOINT_PATH)"
   ]
  },
  {
   "cell_type": "markdown",
   "id": "22e230df",
   "metadata": {},
   "source": [
    "# 5. Update Model's \"pipeline.config\" For Transfer Learning"
   ]
  },
  {
   "cell_type": "code",
   "execution_count": null,
   "id": "91fc4a63",
   "metadata": {},
   "outputs": [],
   "source": [
    "import tensorflow as tf\n",
    "from object_detection.utils import config_util\n",
    "from object_detection.protos import pipeline_pb2\n",
    "from google.protobuf import text_format"
   ]
  },
  {
   "cell_type": "code",
   "execution_count": null,
   "id": "1b1be6ef",
   "metadata": {},
   "outputs": [],
   "source": [
    "config = config_util.get_configs_from_pipeline_file(CONFIG_FILE)"
   ]
  },
  {
   "cell_type": "code",
   "execution_count": null,
   "id": "678247b6",
   "metadata": {},
   "outputs": [],
   "source": [
    "pipeline_config = pipeline_pb2.TrainEvalPipelineConfig()\n",
    "with tf.io.gfile.GFile(CONFIG_FILE, 'r') as f:\n",
    "    proto_str = f.read()\n",
    "    text_format.Merge(proto_str, pipeline_config)"
   ]
  },
  {
   "cell_type": "code",
   "execution_count": null,
   "id": "0054333f",
   "metadata": {},
   "outputs": [],
   "source": [
    "pipeline_config.model.ssd.num_classes = 10\n",
    "pipeline_config.train_config.batch_size = 6 # moze i vise zbog GPU\n",
    "pipeline_config.train_config.fine_tune_checkpoint = PRETRAINED_MODEL_PATH + '/ssd_mobilenet_v2_fpnlite_320x320_coco17_tpu-8/checkpoint/ckpt-0'\n",
    "pipeline_config.train_config.fine_tune_checkpoint_type = 'detection'\n",
    "pipeline_config.train_input_reader.label_map_path = ANNOTATION_PATH + '/label_map.pbtxt'\n",
    "pipeline_config.train_input_reader.tf_record_input_reader.input_path[:] = [ANNOTATION_PATH + '/train.record']\n",
    "pipeline_config.eval_input_reader[0].label_map_path = ANNOTATION_PATH + '/label_map.pbtxt'\n",
    "pipeline_config.eval_input_reader[0].tf_record_input_reader.input_path[:] = [ANNOTATION_PATH + '/test.record']"
   ]
  },
  {
   "cell_type": "code",
   "execution_count": null,
   "id": "28dc622e",
   "metadata": {},
   "outputs": [],
   "source": [
    "config_text = text_format.MessageToString(pipeline_config)\n",
    "with tf.io.gfile.GFile(CONFIG_FILE, \"wb\") as f:\n",
    "    f.write(config_text)"
   ]
  },
  {
   "cell_type": "markdown",
   "id": "59880d68",
   "metadata": {},
   "source": [
    "# 6. Train The Model"
   ]
  },
  {
   "cell_type": "code",
   "execution_count": null,
   "id": "72bb6518",
   "metadata": {},
   "outputs": [],
   "source": [
    "if not os.path.exists(os.path.join(APIMODEL_PATH, 'research', 'object_detection')):\n",
    "    !git clone https://github.com/tensorflow/models {APIMODEL_PATH}"
   ]
  },
  {
   "cell_type": "code",
   "execution_count": null,
   "id": "86892275",
   "metadata": {},
   "outputs": [],
   "source": [
    "print(\"\"\"python {}/research/object_detection/model_main_tf2.py --model_dir={} --pipeline_config_path={} --num_train_steps=5000\"\"\".format(APIMODEL_PATH, CHECKPOINT_PATH, CONFIG_FILE))"
   ]
  },
  {
   "cell_type": "code",
   "execution_count": null,
   "id": "3b55cc36",
   "metadata": {},
   "outputs": [],
   "source": [
    "# otici u folder \"zavrsni\" u terminal i izvesti gore ispisanu liniju"
   ]
  },
  {
   "cell_type": "markdown",
   "id": "bb0d80cb",
   "metadata": {},
   "source": [
    "# 7. Evaluate The Model"
   ]
  },
  {
   "cell_type": "code",
   "execution_count": null,
   "id": "d26784ad",
   "metadata": {},
   "outputs": [],
   "source": [
    "print(\"\"\"python {}/research/object_detection/model_main_tf2.py --model_dir={} --pipeline_config_path={} --checkpoint_dir={}\"\"\".format(APIMODEL_PATH, CHECKPOINT_PATH, CONFIG_FILE, CHECKPOINT_PATH))"
   ]
  },
  {
   "cell_type": "code",
   "execution_count": null,
   "id": "ff7d0b7c",
   "metadata": {},
   "outputs": [],
   "source": [
    "# otici u folder \"zavrsni\" u terminal i izvesti gore ispisanu liniju"
   ]
  },
  {
   "cell_type": "markdown",
   "id": "d86ab4ea",
   "metadata": {},
   "source": [
    "# 8. Load Train Model From Checkpoint"
   ]
  },
  {
   "cell_type": "code",
   "execution_count": null,
   "id": "c40afb62",
   "metadata": {},
   "outputs": [],
   "source": [
    "import os\n",
    "import tensorflow as tf\n",
    "from object_detection.utils import label_map_util\n",
    "from object_detection.utils import visualization_utils as viz_utils\n",
    "from object_detection.builders import model_builder\n",
    "from object_detection.utils import config_util"
   ]
  },
  {
   "cell_type": "code",
   "execution_count": null,
   "id": "a5589634",
   "metadata": {},
   "outputs": [],
   "source": [
    "# Loading pipeline config and building a detection model\n",
    "configs = config_util.get_configs_from_pipeline_file(CONFIG_FILE)\n",
    "detection_model = model_builder.build(model_config=configs['model'], is_training=False)\n",
    "\n",
    "# Restoring from checkpoint\n",
    "ckpt = tf.compat.v2.train.Checkpoint(model=detection_model)\n",
    "ckpt.restore(os.path.join(CHECKPOINT_PATH, 'ckpt-6')).expect_partial()"
   ]
  },
  {
   "cell_type": "code",
   "execution_count": null,
   "id": "08349e1d",
   "metadata": {},
   "outputs": [],
   "source": [
    "@tf.function\n",
    "def detect(image):\n",
    "    image, shapes = detection_model.preprocess(image)\n",
    "    prediction_dict = detection_model.predict(image, shapes)\n",
    "    detections = detection_model.postprocess(prediction_dict, shapes)\n",
    "    return detections"
   ]
  },
  {
   "cell_type": "markdown",
   "id": "3830c883",
   "metadata": {},
   "source": [
    "# 9. Detect From An Image"
   ]
  },
  {
   "cell_type": "code",
   "execution_count": null,
   "id": "2c838bd2",
   "metadata": {},
   "outputs": [],
   "source": [
    "import cv2 \n",
    "import numpy as np\n",
    "from matplotlib import pyplot as plt\n",
    "%matplotlib inline"
   ]
  },
  {
   "cell_type": "code",
   "execution_count": null,
   "id": "e31f5395",
   "metadata": {},
   "outputs": [],
   "source": [
    "category_index = label_map_util.create_category_index_from_labelmap(ANNOTATION_PATH + '/label_map.pbtxt')"
   ]
  },
  {
   "cell_type": "code",
   "execution_count": null,
   "id": "21fb9750",
   "metadata": {},
   "outputs": [],
   "source": [
    "IMG_PATH = os.path.join(IMAGE_PATH, 'test', 'znak088.jpg')\n",
    "# 088 - divljac\n",
    "# 177, 185 - stop\n",
    "# 193 - ogranicenje 40 \n",
    "# 267 - ogranicenje 50\n",
    "# 341 - ogranicenje 60 \n",
    "# 406 - pjesacki\n",
    "# 476 - priblizavanje pjesackom\n",
    "# 580 - zabrana pretjecanja"
   ]
  },
  {
   "cell_type": "code",
   "execution_count": null,
   "id": "662ba197",
   "metadata": {
    "scrolled": true
   },
   "outputs": [],
   "source": [
    "img = cv2.imread(IMG_PATH)\n",
    "image_np = np.array(img)\n",
    "\n",
    "input_tensor = tf.convert_to_tensor(np.expand_dims(image_np, 0), dtype=tf.float32)\n",
    "detections = detect(input_tensor)\n",
    "\n",
    "num_detections = int(detections.pop('num_detections'))\n",
    "detections = {key: value[0, :num_detections].numpy()\n",
    "             for key, value in detections.items()}\n",
    "detections['num_detections']=num_detections\n",
    "\n",
    "# detections_classes should be ints\n",
    "detections['detection_classes'] = detections['detection_classes'].astype(np.int64)\n",
    "\n",
    "label_id_offset = 1\n",
    "image_np_with_detections = image_np.copy()\n",
    "\n",
    "viz_utils.visualize_boxes_and_labels_on_image_array(\n",
    "    image_np_with_detections,\n",
    "    detections['detection_boxes'],\n",
    "    detections['detection_classes']+label_id_offset,\n",
    "    detections['detection_scores'],\n",
    "    category_index,\n",
    "    use_normalized_coordinates=True,\n",
    "    max_boxes_to_draw=5,\n",
    "    min_score_thresh=.7,\n",
    "    agnostic_mode=False\n",
    ")\n",
    "\n",
    "plt.imshow(cv2.cvtColor(image_np_with_detections, cv2.COLOR_BGR2RGB))\n",
    "plt.axis('off')\n",
    "plt.show()"
   ]
  },
  {
   "cell_type": "markdown",
   "id": "4225a540",
   "metadata": {},
   "source": [
    "# 10. Detect in Real-Time"
   ]
  },
  {
   "cell_type": "code",
   "execution_count": null,
   "id": "3906f6ad",
   "metadata": {},
   "outputs": [],
   "source": [
    "def detect_in_video(cap, width, height):\n",
    "    while True:\n",
    "        ret, frame = cap.read()\n",
    "        image_np = np.array(frame)\n",
    "    \n",
    "        input_tensor = tf.convert_to_tensor(np.expand_dims(image_np, 0), dtype=tf.float32)\n",
    "        detections = detect(input_tensor)\n",
    "    \n",
    "        num_detections = int(detections.pop('num_detections'))\n",
    "        detections = {key:value[0, :num_detections].numpy() for key, value in detections.items()}\n",
    "        detections['num_detections'] = num_detections\n",
    "        detections['detection_classes'] = detections['detection_classes'].astype(np.int64)\n",
    "    \n",
    "        label_id_offset = 1\n",
    "        image_np_with_detections = image_np.copy()\n",
    "    \n",
    "        viz_utils.visualize_boxes_and_labels_on_image_array(\n",
    "            image_np_with_detections,\n",
    "            detections['detection_boxes'],\n",
    "            detections['detection_classes']+label_id_offset,\n",
    "            detections['detection_scores'],\n",
    "            category_index,\n",
    "            use_normalized_coordinates=True,\n",
    "            max_boxes_to_draw=5,\n",
    "            min_score_thresh=.8,\n",
    "            agnostic_mode=False\n",
    "        )\n",
    "    \n",
    "        cv2.imshow('Detekcija Prometnih Znakova', cv2.resize(image_np_with_detections, (width, height)))\n",
    "    \n",
    "        if cv2.waitKey(1) & 0xFF == ord('q'):\n",
    "            cap.release()\n",
    "            cv2.destroyAllWindows()\n",
    "            break        "
   ]
  },
  {
   "cell_type": "code",
   "execution_count": null,
   "id": "ab077540",
   "metadata": {},
   "outputs": [],
   "source": [
    "cap = cv2.VideoCapture(0)\n",
    "width = int(cap.get(cv2.CAP_PROP_FRAME_WIDTH))\n",
    "height = int(cap.get(cv2.CAP_PROP_FRAME_HEIGHT))\n",
    "detect_in_video(cap, width, height)"
   ]
  },
  {
   "cell_type": "markdown",
   "id": "ea8c8d85",
   "metadata": {},
   "source": [
    "# 11. Detect From Video"
   ]
  },
  {
   "cell_type": "code",
   "execution_count": null,
   "id": "2581703e",
   "metadata": {},
   "outputs": [],
   "source": [
    "cap = cv2.VideoCapture(\"./video.mov\")\n",
    "width = 800\n",
    "height = 800\n",
    "detect_in_video(cap, width, height)"
   ]
  },
  {
   "cell_type": "code",
   "execution_count": null,
   "id": "0fc2eac1",
   "metadata": {},
   "outputs": [],
   "source": []
  },
  {
   "cell_type": "code",
   "execution_count": null,
   "id": "c699a569",
   "metadata": {},
   "outputs": [],
   "source": []
  }
 ],
 "metadata": {
  "kernelspec": {
   "display_name": "env",
   "language": "python",
   "name": "env"
  },
  "language_info": {
   "codemirror_mode": {
    "name": "ipython",
    "version": 3
   },
   "file_extension": ".py",
   "mimetype": "text/x-python",
   "name": "python",
   "nbconvert_exporter": "python",
   "pygments_lexer": "ipython3",
   "version": "3.10.9"
  }
 },
 "nbformat": 4,
 "nbformat_minor": 5
}
