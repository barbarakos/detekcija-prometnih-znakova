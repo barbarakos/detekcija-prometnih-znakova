{
 "cells": [
  {
   "cell_type": "markdown",
   "id": "a421f552",
   "metadata": {},
   "source": [
    "# 1. Setup Paths"
   ]
  },
  {
   "cell_type": "code",
   "execution_count": 1,
   "id": "e90cd14f",
   "metadata": {},
   "outputs": [
    {
     "name": "stdout",
     "output_type": "stream",
     "text": [
      "Collecting jupyterthemes\n",
      "  Downloading jupyterthemes-0.20.0-py2.py3-none-any.whl (7.0 MB)\n",
      "                                              0.0/7.0 MB ? eta -:--:--\n",
      "     -                                        0.2/7.0 MB 5.9 MB/s eta 0:00:02\n",
      "     -----                                    0.9/7.0 MB 9.7 MB/s eta 0:00:01\n",
      "     -----------                              2.0/7.0 MB 15.8 MB/s eta 0:00:01\n",
      "     -----------                              2.1/7.0 MB 14.7 MB/s eta 0:00:01\n",
      "     -----------                              2.1/7.0 MB 14.7 MB/s eta 0:00:01\n",
      "     -----------                              2.1/7.0 MB 14.7 MB/s eta 0:00:01\n",
      "     -----------                              2.1/7.0 MB 14.7 MB/s eta 0:00:01\n",
      "     -----------                              2.1/7.0 MB 14.7 MB/s eta 0:00:01\n",
      "     -----------                              2.1/7.0 MB 14.7 MB/s eta 0:00:01\n",
      "     -----------                              2.1/7.0 MB 14.7 MB/s eta 0:00:01\n",
      "     -----------                              2.1/7.0 MB 14.7 MB/s eta 0:00:01\n",
      "     -----------                              2.1/7.0 MB 14.7 MB/s eta 0:00:01\n",
      "     -----------                              2.1/7.0 MB 14.7 MB/s eta 0:00:01\n",
      "     -----------                              2.1/7.0 MB 14.7 MB/s eta 0:00:01\n",
      "     -----------                              2.1/7.0 MB 14.7 MB/s eta 0:00:01\n",
      "     -----------                              2.1/7.0 MB 14.7 MB/s eta 0:00:01\n",
      "     ---------------                          2.7/7.0 MB 3.4 MB/s eta 0:00:02\n",
      "     -----------------                        3.1/7.0 MB 3.7 MB/s eta 0:00:02\n",
      "     --------------------                     3.6/7.0 MB 4.1 MB/s eta 0:00:01\n",
      "     -----------------------                  4.2/7.0 MB 4.5 MB/s eta 0:00:01\n",
      "     -----------------------                  4.2/7.0 MB 4.5 MB/s eta 0:00:01\n",
      "     -----------------------                  4.2/7.0 MB 4.5 MB/s eta 0:00:01\n",
      "     -----------------------                  4.2/7.0 MB 4.5 MB/s eta 0:00:01\n",
      "     -----------------------                  4.2/7.0 MB 4.5 MB/s eta 0:00:01\n",
      "     -----------------------                  4.2/7.0 MB 4.5 MB/s eta 0:00:01\n",
      "     -----------------------                  4.2/7.0 MB 4.5 MB/s eta 0:00:01\n",
      "     -----------------------                  4.2/7.0 MB 4.5 MB/s eta 0:00:01\n",
      "     -----------------------                  4.2/7.0 MB 4.5 MB/s eta 0:00:01\n",
      "     -----------------------                  4.2/7.0 MB 4.5 MB/s eta 0:00:01\n",
      "     ---------------------------              4.8/7.0 MB 3.4 MB/s eta 0:00:01\n",
      "     -------------------------------          5.6/7.0 MB 3.8 MB/s eta 0:00:01\n",
      "     -------------------------------------    6.6/7.0 MB 4.4 MB/s eta 0:00:01\n",
      "     ---------------------------------------- 7.0/7.0 MB 4.5 MB/s eta 0:00:00\n",
      "Requirement already satisfied: jupyter-core in c:\\users\\barbara\\desktop\\fer\\6.sem\\zavrsni\\env\\lib\\site-packages (from jupyterthemes) (5.3.0)\n",
      "Requirement already satisfied: notebook>=5.6.0 in c:\\users\\barbara\\anaconda3\\lib\\site-packages (from jupyterthemes) (6.5.2)\n",
      "Requirement already satisfied: ipython>=5.4.1 in c:\\users\\barbara\\desktop\\fer\\6.sem\\zavrsni\\env\\lib\\site-packages (from jupyterthemes) (8.13.1)\n",
      "Requirement already satisfied: matplotlib>=1.4.3 in c:\\users\\barbara\\desktop\\fer\\6.sem\\zavrsni\\env\\lib\\site-packages (from jupyterthemes) (3.7.1)\n",
      "Collecting lesscpy>=0.11.2 (from jupyterthemes)\n",
      "  Downloading lesscpy-0.15.1-py2.py3-none-any.whl (46 kB)\n",
      "                                              0.0/46.7 kB ? eta -:--:--\n",
      "     ---------------------------------------- 46.7/46.7 kB ? eta 0:00:00\n",
      "Requirement already satisfied: backcall in c:\\users\\barbara\\desktop\\fer\\6.sem\\zavrsni\\env\\lib\\site-packages (from ipython>=5.4.1->jupyterthemes) (0.2.0)\n",
      "Requirement already satisfied: decorator in c:\\users\\barbara\\desktop\\fer\\6.sem\\zavrsni\\env\\lib\\site-packages (from ipython>=5.4.1->jupyterthemes) (5.1.1)\n",
      "Requirement already satisfied: jedi>=0.16 in c:\\users\\barbara\\desktop\\fer\\6.sem\\zavrsni\\env\\lib\\site-packages (from ipython>=5.4.1->jupyterthemes) (0.18.2)\n",
      "Requirement already satisfied: matplotlib-inline in c:\\users\\barbara\\desktop\\fer\\6.sem\\zavrsni\\env\\lib\\site-packages (from ipython>=5.4.1->jupyterthemes) (0.1.6)\n",
      "Requirement already satisfied: pickleshare in c:\\users\\barbara\\desktop\\fer\\6.sem\\zavrsni\\env\\lib\\site-packages (from ipython>=5.4.1->jupyterthemes) (0.7.5)\n",
      "Requirement already satisfied: prompt-toolkit!=3.0.37,<3.1.0,>=3.0.30 in c:\\users\\barbara\\desktop\\fer\\6.sem\\zavrsni\\env\\lib\\site-packages (from ipython>=5.4.1->jupyterthemes) (3.0.38)\n",
      "Requirement already satisfied: pygments>=2.4.0 in c:\\users\\barbara\\desktop\\fer\\6.sem\\zavrsni\\env\\lib\\site-packages (from ipython>=5.4.1->jupyterthemes) (2.15.1)\n",
      "Requirement already satisfied: stack-data in c:\\users\\barbara\\desktop\\fer\\6.sem\\zavrsni\\env\\lib\\site-packages (from ipython>=5.4.1->jupyterthemes) (0.6.2)\n",
      "Requirement already satisfied: traitlets>=5 in c:\\users\\barbara\\desktop\\fer\\6.sem\\zavrsni\\env\\lib\\site-packages (from ipython>=5.4.1->jupyterthemes) (5.9.0)\n",
      "Requirement already satisfied: colorama in c:\\users\\barbara\\desktop\\fer\\6.sem\\zavrsni\\env\\lib\\site-packages (from ipython>=5.4.1->jupyterthemes) (0.4.6)\n",
      "Requirement already satisfied: ply in c:\\users\\barbara\\anaconda3\\lib\\site-packages (from lesscpy>=0.11.2->jupyterthemes) (3.11)\n",
      "Requirement already satisfied: contourpy>=1.0.1 in c:\\users\\barbara\\desktop\\fer\\6.sem\\zavrsni\\env\\lib\\site-packages (from matplotlib>=1.4.3->jupyterthemes) (1.0.7)\n",
      "Requirement already satisfied: cycler>=0.10 in c:\\users\\barbara\\desktop\\fer\\6.sem\\zavrsni\\env\\lib\\site-packages (from matplotlib>=1.4.3->jupyterthemes) (0.11.0)\n",
      "Requirement already satisfied: fonttools>=4.22.0 in c:\\users\\barbara\\desktop\\fer\\6.sem\\zavrsni\\env\\lib\\site-packages (from matplotlib>=1.4.3->jupyterthemes) (4.39.3)\n",
      "Requirement already satisfied: kiwisolver>=1.0.1 in c:\\users\\barbara\\desktop\\fer\\6.sem\\zavrsni\\env\\lib\\site-packages (from matplotlib>=1.4.3->jupyterthemes) (1.4.4)\n",
      "Requirement already satisfied: numpy>=1.20 in c:\\users\\barbara\\desktop\\fer\\6.sem\\zavrsni\\env\\lib\\site-packages (from matplotlib>=1.4.3->jupyterthemes) (1.23.5)\n",
      "Requirement already satisfied: packaging>=20.0 in c:\\users\\barbara\\desktop\\fer\\6.sem\\zavrsni\\env\\lib\\site-packages (from matplotlib>=1.4.3->jupyterthemes) (23.1)\n",
      "Requirement already satisfied: pillow>=6.2.0 in c:\\users\\barbara\\desktop\\fer\\6.sem\\zavrsni\\env\\lib\\site-packages (from matplotlib>=1.4.3->jupyterthemes) (9.5.0)\n",
      "Requirement already satisfied: pyparsing>=2.3.1 in c:\\users\\barbara\\desktop\\fer\\6.sem\\zavrsni\\env\\lib\\site-packages (from matplotlib>=1.4.3->jupyterthemes) (2.4.7)\n",
      "Requirement already satisfied: python-dateutil>=2.7 in c:\\users\\barbara\\desktop\\fer\\6.sem\\zavrsni\\env\\lib\\site-packages (from matplotlib>=1.4.3->jupyterthemes) (2.8.2)\n",
      "Requirement already satisfied: jinja2 in c:\\users\\barbara\\anaconda3\\lib\\site-packages (from notebook>=5.6.0->jupyterthemes) (3.1.2)\n",
      "Requirement already satisfied: tornado>=6.1 in c:\\users\\barbara\\desktop\\fer\\6.sem\\zavrsni\\env\\lib\\site-packages (from notebook>=5.6.0->jupyterthemes) (6.3.1)\n",
      "Requirement already satisfied: pyzmq>=17 in c:\\users\\barbara\\desktop\\fer\\6.sem\\zavrsni\\env\\lib\\site-packages (from notebook>=5.6.0->jupyterthemes) (25.0.2)\n",
      "Requirement already satisfied: argon2-cffi in c:\\users\\barbara\\anaconda3\\lib\\site-packages (from notebook>=5.6.0->jupyterthemes) (21.3.0)\n",
      "Requirement already satisfied: jupyter-client>=5.3.4 in c:\\users\\barbara\\desktop\\fer\\6.sem\\zavrsni\\env\\lib\\site-packages (from notebook>=5.6.0->jupyterthemes) (8.2.0)\n",
      "Requirement already satisfied: ipython-genutils in c:\\users\\barbara\\anaconda3\\lib\\site-packages (from notebook>=5.6.0->jupyterthemes) (0.2.0)\n",
      "Requirement already satisfied: nbformat in c:\\users\\barbara\\anaconda3\\lib\\site-packages (from notebook>=5.6.0->jupyterthemes) (5.7.0)\n",
      "Requirement already satisfied: nbconvert>=5 in c:\\users\\barbara\\anaconda3\\lib\\site-packages (from notebook>=5.6.0->jupyterthemes) (6.5.4)\n",
      "Requirement already satisfied: nest-asyncio>=1.5 in c:\\users\\barbara\\desktop\\fer\\6.sem\\zavrsni\\env\\lib\\site-packages (from notebook>=5.6.0->jupyterthemes) (1.5.6)\n",
      "Requirement already satisfied: ipykernel in c:\\users\\barbara\\desktop\\fer\\6.sem\\zavrsni\\env\\lib\\site-packages (from notebook>=5.6.0->jupyterthemes) (6.22.0)\n",
      "Requirement already satisfied: Send2Trash>=1.8.0 in c:\\users\\barbara\\anaconda3\\lib\\site-packages (from notebook>=5.6.0->jupyterthemes) (1.8.0)\n",
      "Requirement already satisfied: terminado>=0.8.3 in c:\\users\\barbara\\anaconda3\\lib\\site-packages (from notebook>=5.6.0->jupyterthemes) (0.17.1)\n",
      "Requirement already satisfied: prometheus-client in c:\\users\\barbara\\anaconda3\\lib\\site-packages (from notebook>=5.6.0->jupyterthemes) (0.14.1)\n",
      "Requirement already satisfied: nbclassic>=0.4.7 in c:\\users\\barbara\\anaconda3\\lib\\site-packages (from notebook>=5.6.0->jupyterthemes) (0.5.2)\n",
      "Requirement already satisfied: platformdirs>=2.5 in c:\\users\\barbara\\desktop\\fer\\6.sem\\zavrsni\\env\\lib\\site-packages (from jupyter-core->jupyterthemes) (3.5.0)\n",
      "Requirement already satisfied: pywin32>=300 in c:\\users\\barbara\\desktop\\fer\\6.sem\\zavrsni\\env\\lib\\site-packages (from jupyter-core->jupyterthemes) (306)\n",
      "Requirement already satisfied: parso<0.9.0,>=0.8.0 in c:\\users\\barbara\\desktop\\fer\\6.sem\\zavrsni\\env\\lib\\site-packages (from jedi>=0.16->ipython>=5.4.1->jupyterthemes) (0.8.3)\n",
      "Requirement already satisfied: jupyter-server>=1.8 in c:\\users\\barbara\\anaconda3\\lib\\site-packages (from nbclassic>=0.4.7->notebook>=5.6.0->jupyterthemes) (1.23.4)\n",
      "Requirement already satisfied: notebook-shim>=0.1.0 in c:\\users\\barbara\\anaconda3\\lib\\site-packages (from nbclassic>=0.4.7->notebook>=5.6.0->jupyterthemes) (0.2.2)\n",
      "Requirement already satisfied: lxml in c:\\users\\barbara\\desktop\\fer\\6.sem\\zavrsni\\env\\lib\\site-packages (from nbconvert>=5->notebook>=5.6.0->jupyterthemes) (4.9.2)\n",
      "Requirement already satisfied: beautifulsoup4 in c:\\users\\barbara\\anaconda3\\lib\\site-packages (from nbconvert>=5->notebook>=5.6.0->jupyterthemes) (4.11.1)\n",
      "Requirement already satisfied: bleach in c:\\users\\barbara\\anaconda3\\lib\\site-packages (from nbconvert>=5->notebook>=5.6.0->jupyterthemes) (4.1.0)\n",
      "Requirement already satisfied: defusedxml in c:\\users\\barbara\\anaconda3\\lib\\site-packages (from nbconvert>=5->notebook>=5.6.0->jupyterthemes) (0.7.1)\n",
      "Requirement already satisfied: entrypoints>=0.2.2 in c:\\users\\barbara\\anaconda3\\lib\\site-packages (from nbconvert>=5->notebook>=5.6.0->jupyterthemes) (0.4)\n",
      "Requirement already satisfied: jupyterlab-pygments in c:\\users\\barbara\\anaconda3\\lib\\site-packages (from nbconvert>=5->notebook>=5.6.0->jupyterthemes) (0.1.2)\n",
      "Requirement already satisfied: MarkupSafe>=2.0 in c:\\users\\barbara\\desktop\\fer\\6.sem\\zavrsni\\env\\lib\\site-packages (from nbconvert>=5->notebook>=5.6.0->jupyterthemes) (2.1.2)\n",
      "Requirement already satisfied: mistune<2,>=0.8.1 in c:\\users\\barbara\\anaconda3\\lib\\site-packages (from nbconvert>=5->notebook>=5.6.0->jupyterthemes) (0.8.4)\n",
      "Requirement already satisfied: nbclient>=0.5.0 in c:\\users\\barbara\\anaconda3\\lib\\site-packages (from nbconvert>=5->notebook>=5.6.0->jupyterthemes) (0.5.13)\n",
      "Requirement already satisfied: pandocfilters>=1.4.1 in c:\\users\\barbara\\anaconda3\\lib\\site-packages (from nbconvert>=5->notebook>=5.6.0->jupyterthemes) (1.5.0)\n",
      "Requirement already satisfied: tinycss2 in c:\\users\\barbara\\anaconda3\\lib\\site-packages (from nbconvert>=5->notebook>=5.6.0->jupyterthemes) (1.2.1)\n",
      "Requirement already satisfied: fastjsonschema in c:\\users\\barbara\\anaconda3\\lib\\site-packages (from nbformat->notebook>=5.6.0->jupyterthemes) (2.16.2)\n",
      "Requirement already satisfied: jsonschema>=2.6 in c:\\users\\barbara\\anaconda3\\lib\\site-packages (from nbformat->notebook>=5.6.0->jupyterthemes) (4.17.3)\n",
      "Requirement already satisfied: wcwidth in c:\\users\\barbara\\desktop\\fer\\6.sem\\zavrsni\\env\\lib\\site-packages (from prompt-toolkit!=3.0.37,<3.1.0,>=3.0.30->ipython>=5.4.1->jupyterthemes) (0.2.6)\n",
      "Requirement already satisfied: six>=1.5 in c:\\users\\barbara\\desktop\\fer\\6.sem\\zavrsni\\env\\lib\\site-packages (from python-dateutil>=2.7->matplotlib>=1.4.3->jupyterthemes) (1.16.0)\n",
      "Requirement already satisfied: pywinpty>=1.1.0 in c:\\users\\barbara\\anaconda3\\lib\\site-packages (from terminado>=0.8.3->notebook>=5.6.0->jupyterthemes) (2.0.10)\n",
      "Requirement already satisfied: argon2-cffi-bindings in c:\\users\\barbara\\anaconda3\\lib\\site-packages (from argon2-cffi->notebook>=5.6.0->jupyterthemes) (21.2.0)\n",
      "Requirement already satisfied: comm>=0.1.1 in c:\\users\\barbara\\desktop\\fer\\6.sem\\zavrsni\\env\\lib\\site-packages (from ipykernel->notebook>=5.6.0->jupyterthemes) (0.1.3)\n",
      "Requirement already satisfied: debugpy>=1.6.5 in c:\\users\\barbara\\desktop\\fer\\6.sem\\zavrsni\\env\\lib\\site-packages (from ipykernel->notebook>=5.6.0->jupyterthemes) (1.6.7)\n",
      "Requirement already satisfied: psutil in c:\\users\\barbara\\desktop\\fer\\6.sem\\zavrsni\\env\\lib\\site-packages (from ipykernel->notebook>=5.6.0->jupyterthemes) (5.9.5)\n",
      "Requirement already satisfied: executing>=1.2.0 in c:\\users\\barbara\\desktop\\fer\\6.sem\\zavrsni\\env\\lib\\site-packages (from stack-data->ipython>=5.4.1->jupyterthemes) (1.2.0)\n",
      "Requirement already satisfied: asttokens>=2.1.0 in c:\\users\\barbara\\desktop\\fer\\6.sem\\zavrsni\\env\\lib\\site-packages (from stack-data->ipython>=5.4.1->jupyterthemes) (2.2.1)\n",
      "Requirement already satisfied: pure-eval in c:\\users\\barbara\\desktop\\fer\\6.sem\\zavrsni\\env\\lib\\site-packages (from stack-data->ipython>=5.4.1->jupyterthemes) (0.2.2)\n",
      "Requirement already satisfied: attrs>=17.4.0 in c:\\users\\barbara\\anaconda3\\lib\\site-packages (from jsonschema>=2.6->nbformat->notebook>=5.6.0->jupyterthemes) (22.1.0)\n",
      "Requirement already satisfied: pyrsistent!=0.17.0,!=0.17.1,!=0.17.2,>=0.14.0 in c:\\users\\barbara\\anaconda3\\lib\\site-packages (from jsonschema>=2.6->nbformat->notebook>=5.6.0->jupyterthemes) (0.18.0)\n",
      "Requirement already satisfied: anyio<4,>=3.1.0 in c:\\users\\barbara\\anaconda3\\lib\\site-packages (from jupyter-server>=1.8->nbclassic>=0.4.7->notebook>=5.6.0->jupyterthemes) (3.5.0)\n",
      "Requirement already satisfied: websocket-client in c:\\users\\barbara\\anaconda3\\lib\\site-packages (from jupyter-server>=1.8->nbclassic>=0.4.7->notebook>=5.6.0->jupyterthemes) (0.58.0)\n",
      "Requirement already satisfied: cffi>=1.0.1 in c:\\users\\barbara\\anaconda3\\lib\\site-packages (from argon2-cffi-bindings->argon2-cffi->notebook>=5.6.0->jupyterthemes) (1.15.1)\n",
      "Requirement already satisfied: soupsieve>1.2 in c:\\users\\barbara\\anaconda3\\lib\\site-packages (from beautifulsoup4->nbconvert>=5->notebook>=5.6.0->jupyterthemes) (2.3.2.post1)\n",
      "Requirement already satisfied: webencodings in c:\\users\\barbara\\anaconda3\\lib\\site-packages (from bleach->nbconvert>=5->notebook>=5.6.0->jupyterthemes) (0.5.1)\n",
      "Requirement already satisfied: idna>=2.8 in c:\\users\\barbara\\desktop\\fer\\6.sem\\zavrsni\\env\\lib\\site-packages (from anyio<4,>=3.1.0->jupyter-server>=1.8->nbclassic>=0.4.7->notebook>=5.6.0->jupyterthemes) (3.4)\n",
      "Requirement already satisfied: sniffio>=1.1 in c:\\users\\barbara\\anaconda3\\lib\\site-packages (from anyio<4,>=3.1.0->jupyter-server>=1.8->nbclassic>=0.4.7->notebook>=5.6.0->jupyterthemes) (1.2.0)\n",
      "Requirement already satisfied: pycparser in c:\\users\\barbara\\anaconda3\\lib\\site-packages (from cffi>=1.0.1->argon2-cffi-bindings->argon2-cffi->notebook>=5.6.0->jupyterthemes) (2.21)\n",
      "Installing collected packages: lesscpy, jupyterthemes\n",
      "Successfully installed jupyterthemes-0.20.0 lesscpy-0.15.1\n"
     ]
    }
   ],
   "source": [
    "!pip install jupyterthemes\n"
   ]
  },
  {
   "cell_type": "code",
   "execution_count": 2,
   "id": "b53c77be",
   "metadata": {},
   "outputs": [],
   "source": [
    "!jt -t onedork -fs 95 -altp -tfs 11 -nfs 115 -cellw 88% -T\n"
   ]
  },
  {
   "cell_type": "markdown",
   "id": "31672107",
   "metadata": {},
   "source": [
    "# 2. Create Label Map"
   ]
  },
  {
   "cell_type": "code",
   "execution_count": null,
   "id": "cbae64c3",
   "metadata": {},
   "outputs": [],
   "source": [
    "labels = [{'name':'', 'id':1}, {'name':'', 'id':2}, {'name':'', 'id':3}, \n",
    "          {'name':'', 'id':4}, {'name':'', 'id':5}, {'name':'', 'id':6}, \n",
    "          {'name':'', 'id':7}, {'name':'', 'id':1}, {'name':'', 'id':1}, {'name':'', 'id':1}]\n"
   ]
  }
 ],
 "metadata": {
  "kernelspec": {
   "display_name": "env",
   "language": "python",
   "name": "env"
  },
  "language_info": {
   "codemirror_mode": {
    "name": "ipython",
    "version": 3
   },
   "file_extension": ".py",
   "mimetype": "text/x-python",
   "name": "python",
   "nbconvert_exporter": "python",
   "pygments_lexer": "ipython3",
   "version": "3.10.9"
  }
 },
 "nbformat": 4,
 "nbformat_minor": 5
}
