{
 "cells": [
  {
   "cell_type": "markdown",
   "id": "476d05e9",
   "metadata": {},
   "source": [
    "# Image Augmentation"
   ]
  },
  {
   "cell_type": "code",
   "execution_count": 4,
   "id": "1ba3f2b9",
   "metadata": {},
   "outputs": [
    {
     "name": "stdout",
     "output_type": "stream",
     "text": [
      "Requirement already satisfied: opencv-python in c:\\users\\barbara\\desktop\\fer\\6.sem\\zavrsni\\env\\lib\\site-packages (4.7.0.72)\n",
      "Requirement already satisfied: numpy>=1.21.2 in c:\\users\\barbara\\desktop\\fer\\6.sem\\zavrsni\\env\\lib\\site-packages (from opencv-python) (1.23.5)\n"
     ]
    }
   ],
   "source": [
    "!pip install opencv-python --upgrade"
   ]
  },
  {
   "cell_type": "code",
   "execution_count": 1,
   "id": "07d61721",
   "metadata": {},
   "outputs": [],
   "source": [
    "import tensorflow as tf\n",
    "import cv2\n",
    "from matplotlib import pyplot as plt\n",
    "import numpy as np"
   ]
  },
  {
   "cell_type": "code",
   "execution_count": 51,
   "id": "ccc79e0b",
   "metadata": {},
   "outputs": [],
   "source": [
    "def augment(img, num):\n",
    "    data = []\n",
    "    for i in range(num):\n",
    "        img = tf.image.random_brightness(img, max_delta=0.2)\n",
    "        img = tf.image.random_contrast(img, lower=0.7, upper=0.9)\n",
    "        img = tf.image.random_jpeg_quality(img, min_jpeg_quality=70, max_jpeg_quality=90)\n",
    "        img = tf.image.random_saturation(img, lower=0.7, upper=0.9)\n",
    "        \n",
    "        data.append(img)\n",
    "    return data"
   ]
  },
  {
   "cell_type": "code",
   "execution_count": 52,
   "id": "3cbf08c4",
   "metadata": {},
   "outputs": [],
   "source": [
    "img = cv2.imread(\"C:/Users/Barbara/Desktop/fer/6.sem/zavrsni/Tensorflow/data/images/train/znak005.JPG\")\n",
    "aug_images = augment(img, 6)"
   ]
  },
  {
   "cell_type": "code",
   "execution_count": 53,
   "id": "fc07684b",
   "metadata": {},
   "outputs": [],
   "source": [
    "import tensorflow as tf\n",
    "from PIL import Image\n",
    "\n",
    "# Function to display photos in a grid with 3 columns\n",
    "def display_photos(photos):\n",
    "    num_photos = len(photos)\n",
    "    num_rows = (num_photos + 2) // 3  # Calculate the number of rows needed\n",
    "\n",
    "    photo_width, photo_height = photos[0].shape[1], photos[0].shape[0]\n",
    "\n",
    "    # Create a blank canvas for the grid\n",
    "    grid_width = 3 * photo_width\n",
    "    grid_height = num_rows * photo_height\n",
    "    grid_image = Image.new('RGB', (grid_width, grid_height))\n",
    "\n",
    "    # Paste each photo into the grid\n",
    "    for i, photo in enumerate(photos):\n",
    "        row = i // 3\n",
    "        col = i % 3\n",
    "        photo_np = photo.numpy()  # Convert TensorFlow tensor to numpy array\n",
    "        photo_rgb = cv2.cvtColor(photo_np, cv2.COLOR_BGR2RGB)  # Convert BGR to RGB\n",
    "        photo_pil = Image.fromarray(photo_rgb)\n",
    "        grid_image.paste(photo_pil, (col * photo_width, row * photo_height))\n",
    "\n",
    "    # Display the grid\n",
    "    grid_image.show()\n"
   ]
  },
  {
   "cell_type": "code",
   "execution_count": 54,
   "id": "bdbbdbdd",
   "metadata": {},
   "outputs": [],
   "source": [
    "photo = tf.convert_to_tensor(np.array(img))\n",
    "aug_images.insert(0, photo)\n",
    "display_photos(aug_images)"
   ]
  },
  {
   "cell_type": "code",
   "execution_count": null,
   "id": "5385e844",
   "metadata": {},
   "outputs": [],
   "source": []
  }
 ],
 "metadata": {
  "kernelspec": {
   "display_name": "env",
   "language": "python",
   "name": "env"
  },
  "language_info": {
   "codemirror_mode": {
    "name": "ipython",
    "version": 3
   },
   "file_extension": ".py",
   "mimetype": "text/x-python",
   "name": "python",
   "nbconvert_exporter": "python",
   "pygments_lexer": "ipython3",
   "version": "3.10.9"
  }
 },
 "nbformat": 4,
 "nbformat_minor": 5
}
